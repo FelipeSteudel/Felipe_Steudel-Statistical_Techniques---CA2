{
 "cells": [
  {
   "cell_type": "markdown",
   "id": "f337a8a2-4f98-41de-bb5a-431cf3106f78",
   "metadata": {},
   "source": [
    "# CA2 Statistical Techniques\n",
    "\n",
    "### Task 1:\n",
    "Load the dataset Q1.csv. It contains the exam scores (in percentages) of a sample of 50 students from a Dublin secondary school.\n",
    "\n",
    "1. Find and comment on important summary statistics and produce an appropriate plot to summarise the dataset.\n",
    "2. One of the teachers is concerned about the performance of the students in the school. She suspects that their performance may be below the reported national average of 70%. Does the data show that her concerns are justified? Use a significance level of alpha = 0.05.\n",
    "3. Produce and comment on an appropriate plot to illustrate your findings.dings."
   ]
  },
  {
   "cell_type": "code",
   "execution_count": 1,
   "id": "8a8d0879-b696-4d7b-b741-703ac406a6a7",
   "metadata": {},
   "outputs": [],
   "source": [
    "import pandas as pd\n",
    "import matplotlib.pyplot as plt\n",
    "\n",
    "from scipy import stats"
   ]
  },
  {
   "cell_type": "markdown",
   "id": "d284da91-f95b-44e2-99c1-278277632efe",
   "metadata": {},
   "source": [
    "#### Data Set Loadingpresent the national mean"
   ]
  },
  {
   "cell_type": "code",
   "execution_count": 2,
   "id": "06d30df9-91f8-4ae3-b2d1-5ad1443226ae",
   "metadata": {},
   "outputs": [],
   "source": [
    "df = pd.read_csv(\"Q1.csv\")"
   ]
  },
  {
   "cell_type": "code",
   "execution_count": 3,
   "id": "2f8eb5d3-5512-414e-a2a6-2b59825527d5",
   "metadata": {
    "scrolled": true
   },
   "outputs": [
    {
     "data": {
      "text/html": [
       "<div>\n",
       "<style scoped>\n",
       "    .dataframe tbody tr th:only-of-type {\n",
       "        vertical-align: middle;\n",
       "    }\n",
       "\n",
       "    .dataframe tbody tr th {\n",
       "        vertical-align: top;\n",
       "    }\n",
       "\n",
       "    .dataframe thead th {\n",
       "        text-align: right;\n",
       "    }\n",
       "</style>\n",
       "<table border=\"1\" class=\"dataframe\">\n",
       "  <thead>\n",
       "    <tr style=\"text-align: right;\">\n",
       "      <th></th>\n",
       "      <th>exam_score</th>\n",
       "    </tr>\n",
       "  </thead>\n",
       "  <tbody>\n",
       "    <tr>\n",
       "      <th>0</th>\n",
       "      <td>74.54</td>\n",
       "    </tr>\n",
       "    <tr>\n",
       "      <th>1</th>\n",
       "      <td>66.20</td>\n",
       "    </tr>\n",
       "    <tr>\n",
       "      <th>2</th>\n",
       "      <td>86.75</td>\n",
       "    </tr>\n",
       "    <tr>\n",
       "      <th>3</th>\n",
       "      <td>70.87</td>\n",
       "    </tr>\n",
       "    <tr>\n",
       "      <th>4</th>\n",
       "      <td>80.43</td>\n",
       "    </tr>\n",
       "    <tr>\n",
       "      <th>5</th>\n",
       "      <td>73.16</td>\n",
       "    </tr>\n",
       "    <tr>\n",
       "      <th>6</th>\n",
       "      <td>81.30</td>\n",
       "    </tr>\n",
       "    <tr>\n",
       "      <th>7</th>\n",
       "      <td>71.37</td>\n",
       "    </tr>\n",
       "    <tr>\n",
       "      <th>8</th>\n",
       "      <td>65.35</td>\n",
       "    </tr>\n",
       "    <tr>\n",
       "      <th>9</th>\n",
       "      <td>80.05</td>\n",
       "    </tr>\n",
       "    <tr>\n",
       "      <th>10</th>\n",
       "      <td>58.06</td>\n",
       "    </tr>\n",
       "    <tr>\n",
       "      <th>11</th>\n",
       "      <td>73.62</td>\n",
       "    </tr>\n",
       "    <tr>\n",
       "      <th>12</th>\n",
       "      <td>55.39</td>\n",
       "    </tr>\n",
       "    <tr>\n",
       "      <th>13</th>\n",
       "      <td>50.44</td>\n",
       "    </tr>\n",
       "    <tr>\n",
       "      <th>14</th>\n",
       "      <td>64.60</td>\n",
       "    </tr>\n",
       "    <tr>\n",
       "      <th>15</th>\n",
       "      <td>67.06</td>\n",
       "    </tr>\n",
       "    <tr>\n",
       "      <th>16</th>\n",
       "      <td>82.96</td>\n",
       "    </tr>\n",
       "    <tr>\n",
       "      <th>17</th>\n",
       "      <td>70.01</td>\n",
       "    </tr>\n",
       "    <tr>\n",
       "      <th>18</th>\n",
       "      <td>67.86</td>\n",
       "    </tr>\n",
       "    <tr>\n",
       "      <th>19</th>\n",
       "      <td>76.02</td>\n",
       "    </tr>\n",
       "    <tr>\n",
       "      <th>20</th>\n",
       "      <td>71.63</td>\n",
       "    </tr>\n",
       "    <tr>\n",
       "      <th>21</th>\n",
       "      <td>87.36</td>\n",
       "    </tr>\n",
       "    <tr>\n",
       "      <th>22</th>\n",
       "      <td>72.57</td>\n",
       "    </tr>\n",
       "    <tr>\n",
       "      <th>23</th>\n",
       "      <td>58.55</td>\n",
       "    </tr>\n",
       "    <tr>\n",
       "      <th>24</th>\n",
       "      <td>75.20</td>\n",
       "    </tr>\n",
       "    <tr>\n",
       "      <th>25</th>\n",
       "      <td>70.49</td>\n",
       "    </tr>\n",
       "    <tr>\n",
       "      <th>26</th>\n",
       "      <td>54.41</td>\n",
       "    </tr>\n",
       "    <tr>\n",
       "      <th>27</th>\n",
       "      <td>48.73</td>\n",
       "    </tr>\n",
       "    <tr>\n",
       "      <th>28</th>\n",
       "      <td>58.43</td>\n",
       "    </tr>\n",
       "    <tr>\n",
       "      <th>29</th>\n",
       "      <td>61.72</td>\n",
       "    </tr>\n",
       "    <tr>\n",
       "      <th>30</th>\n",
       "      <td>68.92</td>\n",
       "    </tr>\n",
       "    <tr>\n",
       "      <th>31</th>\n",
       "      <td>77.48</td>\n",
       "    </tr>\n",
       "    <tr>\n",
       "      <th>32</th>\n",
       "      <td>65.17</td>\n",
       "    </tr>\n",
       "    <tr>\n",
       "      <th>33</th>\n",
       "      <td>63.73</td>\n",
       "    </tr>\n",
       "    <tr>\n",
       "      <th>34</th>\n",
       "      <td>66.27</td>\n",
       "    </tr>\n",
       "    <tr>\n",
       "      <th>35</th>\n",
       "      <td>62.94</td>\n",
       "    </tr>\n",
       "    <tr>\n",
       "      <th>36</th>\n",
       "      <td>65.67</td>\n",
       "    </tr>\n",
       "    <tr>\n",
       "      <th>37</th>\n",
       "      <td>66.58</td>\n",
       "    </tr>\n",
       "    <tr>\n",
       "      <th>38</th>\n",
       "      <td>60.37</td>\n",
       "    </tr>\n",
       "    <tr>\n",
       "      <th>39</th>\n",
       "      <td>60.53</td>\n",
       "    </tr>\n",
       "    <tr>\n",
       "      <th>40</th>\n",
       "      <td>70.00</td>\n",
       "    </tr>\n",
       "    <tr>\n",
       "      <th>41</th>\n",
       "      <td>84.90</td>\n",
       "    </tr>\n",
       "    <tr>\n",
       "      <th>42</th>\n",
       "      <td>74.66</td>\n",
       "    </tr>\n",
       "    <tr>\n",
       "      <th>43</th>\n",
       "      <td>85.14</td>\n",
       "    </tr>\n",
       "    <tr>\n",
       "      <th>44</th>\n",
       "      <td>64.31</td>\n",
       "    </tr>\n",
       "    <tr>\n",
       "      <th>45</th>\n",
       "      <td>61.74</td>\n",
       "    </tr>\n",
       "    <tr>\n",
       "      <th>46</th>\n",
       "      <td>58.77</td>\n",
       "    </tr>\n",
       "    <tr>\n",
       "      <th>47</th>\n",
       "      <td>49.62</td>\n",
       "    </tr>\n",
       "    <tr>\n",
       "      <th>48</th>\n",
       "      <td>71.77</td>\n",
       "    </tr>\n",
       "    <tr>\n",
       "      <th>49</th>\n",
       "      <td>83.08</td>\n",
       "    </tr>\n",
       "  </tbody>\n",
       "</table>\n",
       "</div>"
      ],
      "text/plain": [
       "    exam_score\n",
       "0        74.54\n",
       "1        66.20\n",
       "2        86.75\n",
       "3        70.87\n",
       "4        80.43\n",
       "5        73.16\n",
       "6        81.30\n",
       "7        71.37\n",
       "8        65.35\n",
       "9        80.05\n",
       "10       58.06\n",
       "11       73.62\n",
       "12       55.39\n",
       "13       50.44\n",
       "14       64.60\n",
       "15       67.06\n",
       "16       82.96\n",
       "17       70.01\n",
       "18       67.86\n",
       "19       76.02\n",
       "20       71.63\n",
       "21       87.36\n",
       "22       72.57\n",
       "23       58.55\n",
       "24       75.20\n",
       "25       70.49\n",
       "26       54.41\n",
       "27       48.73\n",
       "28       58.43\n",
       "29       61.72\n",
       "30       68.92\n",
       "31       77.48\n",
       "32       65.17\n",
       "33       63.73\n",
       "34       66.27\n",
       "35       62.94\n",
       "36       65.67\n",
       "37       66.58\n",
       "38       60.37\n",
       "39       60.53\n",
       "40       70.00\n",
       "41       84.90\n",
       "42       74.66\n",
       "43       85.14\n",
       "44       64.31\n",
       "45       61.74\n",
       "46       58.77\n",
       "47       49.62\n",
       "48       71.77\n",
       "49       83.08"
      ]
     },
     "execution_count": 3,
     "metadata": {},
     "output_type": "execute_result"
    }
   ],
   "source": [
    "df"
   ]
  },
  {
   "cell_type": "markdown",
   "id": "e85edc21-4c7e-478f-820b-689522a63c38",
   "metadata": {},
   "source": [
    "#### Summary Statistics"
   ]
  },
  {
   "cell_type": "code",
   "execution_count": 4,
   "id": "fc7e0d18-e948-4a3d-a321-b223f25a2b7b",
   "metadata": {
    "scrolled": true
   },
   "outputs": [
    {
     "name": "stdout",
     "output_type": "stream",
     "text": [
      "<class 'pandas.core.frame.DataFrame'>\n",
      "RangeIndex: 50 entries, 0 to 49\n",
      "Data columns (total 1 columns):\n",
      " #   Column      Non-Null Count  Dtype  \n",
      "---  ------      --------------  -----  \n",
      " 0   exam_score  50 non-null     float64\n",
      "dtypes: float64(1)\n",
      "memory usage: 528.0 bytes\n"
     ]
    }
   ],
   "source": [
    "df.info()"
   ]
  },
  {
   "cell_type": "markdown",
   "id": "1af4ae5d-7875-4286-8522-46e4c951f610",
   "metadata": {},
   "source": [
    "There are 50 records of a float64 variable in the database."
   ]
  },
  {
   "cell_type": "code",
   "execution_count": 5,
   "id": "20a9c4af-b2c9-4154-81f8-8bc7f4e6ad3e",
   "metadata": {},
   "outputs": [
    {
     "data": {
      "text/plain": [
       "exam_score    0\n",
       "dtype: int64"
      ]
     },
     "execution_count": 5,
     "metadata": {},
     "output_type": "execute_result"
    }
   ],
   "source": [
    "df.isnull().sum()"
   ]
  },
  {
   "cell_type": "code",
   "execution_count": 6,
   "id": "36d83e1f-9d75-451b-9ef1-8f8d68d4b401",
   "metadata": {
    "scrolled": true
   },
   "outputs": [
    {
     "data": {
      "text/html": [
       "<div>\n",
       "<style scoped>\n",
       "    .dataframe tbody tr th:only-of-type {\n",
       "        vertical-align: middle;\n",
       "    }\n",
       "\n",
       "    .dataframe tbody tr th {\n",
       "        vertical-align: top;\n",
       "    }\n",
       "\n",
       "    .dataframe thead th {\n",
       "        text-align: right;\n",
       "    }\n",
       "</style>\n",
       "<table border=\"1\" class=\"dataframe\">\n",
       "  <thead>\n",
       "    <tr style=\"text-align: right;\">\n",
       "      <th></th>\n",
       "      <th>exam_score</th>\n",
       "    </tr>\n",
       "  </thead>\n",
       "  <tbody>\n",
       "    <tr>\n",
       "      <th>count</th>\n",
       "      <td>50.000000</td>\n",
       "    </tr>\n",
       "    <tr>\n",
       "      <th>mean</th>\n",
       "      <td>68.735600</td>\n",
       "    </tr>\n",
       "    <tr>\n",
       "      <th>std</th>\n",
       "      <td>9.750143</td>\n",
       "    </tr>\n",
       "    <tr>\n",
       "      <th>min</th>\n",
       "      <td>48.730000</td>\n",
       "    </tr>\n",
       "    <tr>\n",
       "      <th>25%</th>\n",
       "      <td>62.040000</td>\n",
       "    </tr>\n",
       "    <tr>\n",
       "      <th>50%</th>\n",
       "      <td>68.390000</td>\n",
       "    </tr>\n",
       "    <tr>\n",
       "      <th>75%</th>\n",
       "      <td>74.630000</td>\n",
       "    </tr>\n",
       "    <tr>\n",
       "      <th>max</th>\n",
       "      <td>87.360000</td>\n",
       "    </tr>\n",
       "  </tbody>\n",
       "</table>\n",
       "</div>"
      ],
      "text/plain": [
       "       exam_score\n",
       "count   50.000000\n",
       "mean    68.735600\n",
       "std      9.750143\n",
       "min     48.730000\n",
       "25%     62.040000\n",
       "50%     68.390000\n",
       "75%     74.630000\n",
       "max     87.360000"
      ]
     },
     "execution_count": 6,
     "metadata": {},
     "output_type": "execute_result"
    }
   ],
   "source": [
    "df.describe()"
   ]
  },
  {
   "cell_type": "markdown",
   "id": "ea7cb7a9-0d83-4fef-accf-f4fd0e0445e3",
   "metadata": {},
   "source": [
    "#### Data Description\n",
    " - Mean = 68.7356\n",
    " - Std  = 9.75\n",
    " - Min Value = 48.73\n",
    " - Max Value = 87.36"
   ]
  },
  {
   "cell_type": "code",
   "execution_count": 7,
   "id": "7d169838-b1f8-4a49-ae4f-adea0159609f",
   "metadata": {},
   "outputs": [
    {
     "data": {
      "image/png": "[encoded data removed]",
      "text/plain": [
       "<Figure size 640x480 with 1 Axes>"
      ]
     },
     "metadata": {},
     "output_type": "display_data"
    }
   ],
   "source": [
    "# Creating a histogram to visualize the distribution of scores\n",
    "plt.hist(df['exam_score'], bins=10, color='skyblue', edgecolor='black')\n",
    "plt.title('Distribution of Exam Scores')\n",
    "plt.xlabel('Score')\n",
    "plt.ylabel('Frequency')\n",
    "plt.show()"
   ]
  },
  {
   "cell_type": "markdown",
   "id": "d1dfedde-e063-4b97-8eb4-ac16570e83f9",
   "metadata": {},
   "source": [
    "#### Hypothesis Test\n",
    "To determine if the teacher's concerns are justified, we will perform the hypothesis test:\n",
    "\n",
    "1. **Hypotheses**:\n",
    "   - Null Hypothesis (H0): The mean score is equal to or greater than 70%.\n",
    "   - Alternative Hypothesis (H1): The mean score is less than 70%.\n",
    "\n",
    "2. **Significance Level (α)**: α = 0.05.\n",
    "\n",
    "3. **Test Statistic**: We will use the Student's t-test for a sample.\n",
    "\n",
    "4. **Decision Criterion**: If the calculated p-value is less than the significance level (α = 0.05), we will reject the null hypothesis in favor of the alternative hypothesis.ternativa."
   ]
  },
  {
   "cell_type": "code",
   "execution_count": 8,
   "id": "c22f6626-aee6-4a3b-a0f0-26008a4fedc7",
   "metadata": {},
   "outputs": [],
   "source": [
    "# Defining the national mean\n",
    "mean_national = 70\n",
    "\n",
    "# Defining the significance level\n",
    "alpha = 0.05"
   ]
  },
  {
   "cell_type": "code",
   "execution_count": 9,
   "id": "ba3125bf-da32-4ec4-b8af-51cef398620a",
   "metadata": {},
   "outputs": [
    {
     "data": {
      "text/plain": [
       "0.36364597032062806"
      ]
     },
     "execution_count": 9,
     "metadata": {},
     "output_type": "execute_result"
    }
   ],
   "source": [
    "# Performing the hypothesis test\n",
    "t_statistic, p_value = stats.ttest_1samp(df['exam_score'], mean_national)\n",
    "p_value"
   ]
  },
  {
   "cell_type": "markdown",
   "id": "edd960d7-ba18-417d-9039-45296870631e",
   "metadata": {},
   "source": [
    "### Since the p-value (0.3636) is greater than alpha (0.05), there is not enough evidence to conclude that the average scores are below the national mean of 70%."
   ]
  },
  {
   "cell_type": "code",
   "execution_count": 10,
   "id": "7548cbd7-805a-4a6b-947d-fa53d30db085",
   "metadata": {},
   "outputs": [
    {
     "data": {
      "image/png": "[encoded data removed]",
      "text/plain": [
       "<Figure size 1000x600 with 1 Axes>"
      ]
     },
     "metadata": {},
     "output_type": "display_data"
    }
   ],
   "source": [
    "# Creating the histogram\n",
    "plt.figure(figsize=(10, 6))\n",
    "plt.hist(df, bins=15, color='skyblue', edgecolor='black', alpha=0.7)\n",
    "\n",
    "# Adding a vertical line to represent the national mean\n",
    "plt.axvline(mean_national, color='red', linestyle='dashed', linewidth=1, label='National Mean (70%)')\n",
    "\n",
    "# Adding legends and title\n",
    "plt.title('Distribution of Student Scores')\n",
    "plt.xlabel('Score')\n",
    "plt.ylabel('Frequency')\n",
    "plt.legend()\n",
    "\n",
    "# Displaying the graph\n",
    "plt.grid(True)\n",
    "plt.show()"
   ]
  },
  {
   "cell_type": "markdown",
   "id": "175ea4c5-8a6c-48fd-b8dc-4351106a8f8c",
   "metadata": {},
   "source": [
    "\r\n",
    "### Histogram\r\n",
    "Histogram of student scores, highlighting the national mean of 70%.\r\n",
    "\r\n",
    "- The histogram shows the distribution of student scores, highlighting the concentration of scores along the horizontal axis.\r\n",
    "- The dashed vertical line in red represents the national mean of 70%, aiding in visualizing the student scores and positioning relative to the national mean.\r\n",
    "- It is observed that the majority of scores are below the national mean.\r\n",
    "- The distribution of scores appears to be skewed to the left, suggesting that most students achieved lower scores."
   ]
  },
  {
   "cell_type": "code",
   "execution_count": null,
   "id": "3febc473-76c5-455e-bf6b-a598fc949ec3",
   "metadata": {},
   "outputs": [],
   "source": []
  }
 ],
 "metadata": {
  "kernelspec": {
   "display_name": "Python 3 (ipykernel)",
   "language": "python",
   "name": "python3"
  },
  "language_info": {
   "codemirror_mode": {
    "name": "ipython",
    "version": 3
   },
   "file_extension": ".py",
   "mimetype": "text/x-python",
   "name": "python",
   "nbconvert_exporter": "python",
   "pygments_lexer": "ipython3",
   "version": "3.9.19"
  }
 },
 "nbformat": 4,
 "nbformat_minor": 5
}
