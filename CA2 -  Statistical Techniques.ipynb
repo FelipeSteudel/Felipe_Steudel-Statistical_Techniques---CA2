{
 "cells": [
  {
   "cell_type": "markdown",
   "id": "f337a8a2-4f98-41de-bb5a-431cf3106f78",
   "metadata": {},
   "source": [
    "# CA2 Statistical Techniques"
   ]
  },
  {
   "cell_type": "code",
   "execution_count": 1,
   "id": "8a8d0879-b696-4d7b-b741-703ac406a6a7",
   "metadata": {},
   "outputs": [],
   "source": [
    "import pandas as pd\n",
    "import matplotlib.pyplot as plt\n",
    "import seaborn as sns\n",
    "import numpy as np\n",
    "\n",
    "from scipy import stats\n",
    "from scipy.stats import ttest_ind, t\n",
    "from pydataset import data\n",
    "\n",
    "from statsmodels.stats.multicomp import pairwise_tukeyhsd"
   ]
  },
  {
   "cell_type": "markdown",
   "id": "4407d305-6dc2-4ab5-b797-9bcd594b1901",
   "metadata": {},
   "source": [
    "### Task 1:\n",
    "Load the dataset Q1.csv. It contains the exam scores (in percentages) of a sample of 50 students from a Dublin secondary school.\n",
    "\n",
    "1. Find and comment on important summary statistics and produce an appropriate plot to summarise the dataset.\n",
    "2. One of the teachers is concerned about the performance of the students in the school. She suspects that their performance may be below the reported national average of 70%. Does the data show that her concerns are justified? Use a significance level of alpha = 0.05.\n",
    "3. Produce and comment on an appropriate plot to illustrate your findings."
   ]
  },
  {
   "cell_type": "markdown",
   "id": "d284da91-f95b-44e2-99c1-278277632efe",
   "metadata": {},
   "source": [
    "#### Data Set Loadingpresent the national mean"
   ]
  },
  {
   "cell_type": "code",
   "execution_count": 2,
   "id": "06d30df9-91f8-4ae3-b2d1-5ad1443226ae",
   "metadata": {},
   "outputs": [],
   "source": [
    "df = pd.read_csv(\"Q1.csv\")"
   ]
  },
  {
   "cell_type": "code",
   "execution_count": 3,
   "id": "2f8eb5d3-5512-414e-a2a6-2b59825527d5",
   "metadata": {
    "scrolled": true
   },
   "outputs": [
    {
     "data": {
      "text/html": [
       "<div>\n",
       "<style scoped>\n",
       "    .dataframe tbody tr th:only-of-type {\n",
       "        vertical-align: middle;\n",
       "    }\n",
       "\n",
       "    .dataframe tbody tr th {\n",
       "        vertical-align: top;\n",
       "    }\n",
       "\n",
       "    .dataframe thead th {\n",
       "        text-align: right;\n",
       "    }\n",
       "</style>\n",
       "<table border=\"1\" class=\"dataframe\">\n",
       "  <thead>\n",
       "    <tr style=\"text-align: right;\">\n",
       "      <th></th>\n",
       "      <th>exam_score</th>\n",
       "    </tr>\n",
       "  </thead>\n",
       "  <tbody>\n",
       "    <tr>\n",
       "      <th>0</th>\n",
       "      <td>74.54</td>\n",
       "    </tr>\n",
       "    <tr>\n",
       "      <th>1</th>\n",
       "      <td>66.20</td>\n",
       "    </tr>\n",
       "    <tr>\n",
       "      <th>2</th>\n",
       "      <td>86.75</td>\n",
       "    </tr>\n",
       "    <tr>\n",
       "      <th>3</th>\n",
       "      <td>70.87</td>\n",
       "    </tr>\n",
       "    <tr>\n",
       "      <th>4</th>\n",
       "      <td>80.43</td>\n",
       "    </tr>\n",
       "    <tr>\n",
       "      <th>5</th>\n",
       "      <td>73.16</td>\n",
       "    </tr>\n",
       "    <tr>\n",
       "      <th>6</th>\n",
       "      <td>81.30</td>\n",
       "    </tr>\n",
       "    <tr>\n",
       "      <th>7</th>\n",
       "      <td>71.37</td>\n",
       "    </tr>\n",
       "    <tr>\n",
       "      <th>8</th>\n",
       "      <td>65.35</td>\n",
       "    </tr>\n",
       "    <tr>\n",
       "      <th>9</th>\n",
       "      <td>80.05</td>\n",
       "    </tr>\n",
       "    <tr>\n",
       "      <th>10</th>\n",
       "      <td>58.06</td>\n",
       "    </tr>\n",
       "    <tr>\n",
       "      <th>11</th>\n",
       "      <td>73.62</td>\n",
       "    </tr>\n",
       "    <tr>\n",
       "      <th>12</th>\n",
       "      <td>55.39</td>\n",
       "    </tr>\n",
       "    <tr>\n",
       "      <th>13</th>\n",
       "      <td>50.44</td>\n",
       "    </tr>\n",
       "    <tr>\n",
       "      <th>14</th>\n",
       "      <td>64.60</td>\n",
       "    </tr>\n",
       "    <tr>\n",
       "      <th>15</th>\n",
       "      <td>67.06</td>\n",
       "    </tr>\n",
       "    <tr>\n",
       "      <th>16</th>\n",
       "      <td>82.96</td>\n",
       "    </tr>\n",
       "    <tr>\n",
       "      <th>17</th>\n",
       "      <td>70.01</td>\n",
       "    </tr>\n",
       "    <tr>\n",
       "      <th>18</th>\n",
       "      <td>67.86</td>\n",
       "    </tr>\n",
       "    <tr>\n",
       "      <th>19</th>\n",
       "      <td>76.02</td>\n",
       "    </tr>\n",
       "    <tr>\n",
       "      <th>20</th>\n",
       "      <td>71.63</td>\n",
       "    </tr>\n",
       "    <tr>\n",
       "      <th>21</th>\n",
       "      <td>87.36</td>\n",
       "    </tr>\n",
       "    <tr>\n",
       "      <th>22</th>\n",
       "      <td>72.57</td>\n",
       "    </tr>\n",
       "    <tr>\n",
       "      <th>23</th>\n",
       "      <td>58.55</td>\n",
       "    </tr>\n",
       "    <tr>\n",
       "      <th>24</th>\n",
       "      <td>75.20</td>\n",
       "    </tr>\n",
       "    <tr>\n",
       "      <th>25</th>\n",
       "      <td>70.49</td>\n",
       "    </tr>\n",
       "    <tr>\n",
       "      <th>26</th>\n",
       "      <td>54.41</td>\n",
       "    </tr>\n",
       "    <tr>\n",
       "      <th>27</th>\n",
       "      <td>48.73</td>\n",
       "    </tr>\n",
       "    <tr>\n",
       "      <th>28</th>\n",
       "      <td>58.43</td>\n",
       "    </tr>\n",
       "    <tr>\n",
       "      <th>29</th>\n",
       "      <td>61.72</td>\n",
       "    </tr>\n",
       "    <tr>\n",
       "      <th>30</th>\n",
       "      <td>68.92</td>\n",
       "    </tr>\n",
       "    <tr>\n",
       "      <th>31</th>\n",
       "      <td>77.48</td>\n",
       "    </tr>\n",
       "    <tr>\n",
       "      <th>32</th>\n",
       "      <td>65.17</td>\n",
       "    </tr>\n",
       "    <tr>\n",
       "      <th>33</th>\n",
       "      <td>63.73</td>\n",
       "    </tr>\n",
       "    <tr>\n",
       "      <th>34</th>\n",
       "      <td>66.27</td>\n",
       "    </tr>\n",
       "    <tr>\n",
       "      <th>35</th>\n",
       "      <td>62.94</td>\n",
       "    </tr>\n",
       "    <tr>\n",
       "      <th>36</th>\n",
       "      <td>65.67</td>\n",
       "    </tr>\n",
       "    <tr>\n",
       "      <th>37</th>\n",
       "      <td>66.58</td>\n",
       "    </tr>\n",
       "    <tr>\n",
       "      <th>38</th>\n",
       "      <td>60.37</td>\n",
       "    </tr>\n",
       "    <tr>\n",
       "      <th>39</th>\n",
       "      <td>60.53</td>\n",
       "    </tr>\n",
       "    <tr>\n",
       "      <th>40</th>\n",
       "      <td>70.00</td>\n",
       "    </tr>\n",
       "    <tr>\n",
       "      <th>41</th>\n",
       "      <td>84.90</td>\n",
       "    </tr>\n",
       "    <tr>\n",
       "      <th>42</th>\n",
       "      <td>74.66</td>\n",
       "    </tr>\n",
       "    <tr>\n",
       "      <th>43</th>\n",
       "      <td>85.14</td>\n",
       "    </tr>\n",
       "    <tr>\n",
       "      <th>44</th>\n",
       "      <td>64.31</td>\n",
       "    </tr>\n",
       "    <tr>\n",
       "      <th>45</th>\n",
       "      <td>61.74</td>\n",
       "    </tr>\n",
       "    <tr>\n",
       "      <th>46</th>\n",
       "      <td>58.77</td>\n",
       "    </tr>\n",
       "    <tr>\n",
       "      <th>47</th>\n",
       "      <td>49.62</td>\n",
       "    </tr>\n",
       "    <tr>\n",
       "      <th>48</th>\n",
       "      <td>71.77</td>\n",
       "    </tr>\n",
       "    <tr>\n",
       "      <th>49</th>\n",
       "      <td>83.08</td>\n",
       "    </tr>\n",
       "  </tbody>\n",
       "</table>\n",
       "</div>"
      ],
      "text/plain": [
       "    exam_score\n",
       "0        74.54\n",
       "1        66.20\n",
       "2        86.75\n",
       "3        70.87\n",
       "4        80.43\n",
       "5        73.16\n",
       "6        81.30\n",
       "7        71.37\n",
       "8        65.35\n",
       "9        80.05\n",
       "10       58.06\n",
       "11       73.62\n",
       "12       55.39\n",
       "13       50.44\n",
       "14       64.60\n",
       "15       67.06\n",
       "16       82.96\n",
       "17       70.01\n",
       "18       67.86\n",
       "19       76.02\n",
       "20       71.63\n",
       "21       87.36\n",
       "22       72.57\n",
       "23       58.55\n",
       "24       75.20\n",
       "25       70.49\n",
       "26       54.41\n",
       "27       48.73\n",
       "28       58.43\n",
       "29       61.72\n",
       "30       68.92\n",
       "31       77.48\n",
       "32       65.17\n",
       "33       63.73\n",
       "34       66.27\n",
       "35       62.94\n",
       "36       65.67\n",
       "37       66.58\n",
       "38       60.37\n",
       "39       60.53\n",
       "40       70.00\n",
       "41       84.90\n",
       "42       74.66\n",
       "43       85.14\n",
       "44       64.31\n",
       "45       61.74\n",
       "46       58.77\n",
       "47       49.62\n",
       "48       71.77\n",
       "49       83.08"
      ]
     },
     "execution_count": 3,
     "metadata": {},
     "output_type": "execute_result"
    }
   ],
   "source": [
    "df"
   ]
  },
  {
   "cell_type": "markdown",
   "id": "e85edc21-4c7e-478f-820b-689522a63c38",
   "metadata": {},
   "source": [
    "#### Summary Statistics"
   ]
  },
  {
   "cell_type": "code",
   "execution_count": 4,
   "id": "fc7e0d18-e948-4a3d-a321-b223f25a2b7b",
   "metadata": {
    "scrolled": true
   },
   "outputs": [
    {
     "name": "stdout",
     "output_type": "stream",
     "text": [
      "<class 'pandas.core.frame.DataFrame'>\n",
      "RangeIndex: 50 entries, 0 to 49\n",
      "Data columns (total 1 columns):\n",
      " #   Column      Non-Null Count  Dtype  \n",
      "---  ------      --------------  -----  \n",
      " 0   exam_score  50 non-null     float64\n",
      "dtypes: float64(1)\n",
      "memory usage: 528.0 bytes\n"
     ]
    }
   ],
   "source": [
    "df.info()"
   ]
  },
  {
   "cell_type": "markdown",
   "id": "1af4ae5d-7875-4286-8522-46e4c951f610",
   "metadata": {},
   "source": [
    "There are 50 records of a float64 variable in the database."
   ]
  },
  {
   "cell_type": "code",
   "execution_count": 5,
   "id": "20a9c4af-b2c9-4154-81f8-8bc7f4e6ad3e",
   "metadata": {},
   "outputs": [
    {
     "data": {
      "text/plain": [
       "exam_score    0\n",
       "dtype: int64"
      ]
     },
     "execution_count": 5,
     "metadata": {},
     "output_type": "execute_result"
    }
   ],
   "source": [
    "df.isnull().sum()"
   ]
  },
  {
   "cell_type": "code",
   "execution_count": 6,
   "id": "36d83e1f-9d75-451b-9ef1-8f8d68d4b401",
   "metadata": {
    "scrolled": true
   },
   "outputs": [
    {
     "data": {
      "text/html": [
       "<div>\n",
       "<style scoped>\n",
       "    .dataframe tbody tr th:only-of-type {\n",
       "        vertical-align: middle;\n",
       "    }\n",
       "\n",
       "    .dataframe tbody tr th {\n",
       "        vertical-align: top;\n",
       "    }\n",
       "\n",
       "    .dataframe thead th {\n",
       "        text-align: right;\n",
       "    }\n",
       "</style>\n",
       "<table border=\"1\" class=\"dataframe\">\n",
       "  <thead>\n",
       "    <tr style=\"text-align: right;\">\n",
       "      <th></th>\n",
       "      <th>exam_score</th>\n",
       "    </tr>\n",
       "  </thead>\n",
       "  <tbody>\n",
       "    <tr>\n",
       "      <th>count</th>\n",
       "      <td>50.000000</td>\n",
       "    </tr>\n",
       "    <tr>\n",
       "      <th>mean</th>\n",
       "      <td>68.735600</td>\n",
       "    </tr>\n",
       "    <tr>\n",
       "      <th>std</th>\n",
       "      <td>9.750143</td>\n",
       "    </tr>\n",
       "    <tr>\n",
       "      <th>min</th>\n",
       "      <td>48.730000</td>\n",
       "    </tr>\n",
       "    <tr>\n",
       "      <th>25%</th>\n",
       "      <td>62.040000</td>\n",
       "    </tr>\n",
       "    <tr>\n",
       "      <th>50%</th>\n",
       "      <td>68.390000</td>\n",
       "    </tr>\n",
       "    <tr>\n",
       "      <th>75%</th>\n",
       "      <td>74.630000</td>\n",
       "    </tr>\n",
       "    <tr>\n",
       "      <th>max</th>\n",
       "      <td>87.360000</td>\n",
       "    </tr>\n",
       "  </tbody>\n",
       "</table>\n",
       "</div>"
      ],
      "text/plain": [
       "       exam_score\n",
       "count   50.000000\n",
       "mean    68.735600\n",
       "std      9.750143\n",
       "min     48.730000\n",
       "25%     62.040000\n",
       "50%     68.390000\n",
       "75%     74.630000\n",
       "max     87.360000"
      ]
     },
     "execution_count": 6,
     "metadata": {},
     "output_type": "execute_result"
    }
   ],
   "source": [
    "df.describe()"
   ]
  },
  {
   "cell_type": "markdown",
   "id": "ea7cb7a9-0d83-4fef-accf-f4fd0e0445e3",
   "metadata": {},
   "source": [
    "#### Data Description\n",
    " - Mean = 68.7356\n",
    " - Std  = 9.75\n",
    " - Min Value = 48.73\n",
    " - Max Value = 87.36"
   ]
  },
  {
   "cell_type": "code",
   "execution_count": 7,
   "id": "7d169838-b1f8-4a49-ae4f-adea0159609f",
   "metadata": {},
   "outputs": [
    {
     "data": {
      "image/png": "[encoded data removed]",
      "text/plain": [
       "<Figure size 640x480 with 1 Axes>"
      ]
     },
     "metadata": {},
     "output_type": "display_data"
    }
   ],
   "source": [
    "# Creating a histogram to visualize the distribution of scores\n",
    "plt.hist(df['exam_score'], bins=10, color='skyblue', edgecolor='black')\n",
    "plt.title('Distribution of Exam Scores')\n",
    "plt.xlabel('Score')\n",
    "plt.ylabel('Frequency')\n",
    "plt.show()"
   ]
  },
  {
   "cell_type": "markdown",
   "id": "d1dfedde-e063-4b97-8eb4-ac16570e83f9",
   "metadata": {},
   "source": [
    "#### Hypothesis Test - t-test\n",
    "To determine if the teacher's concerns are justified, we will perform the hypothesis test:\n",
    "\n",
    "1. **Hypotheses**:\n",
    "   - Null Hypothesis (H0): The mean score is equal to or greater than 70%.\n",
    "   - Alternative Hypothesis (H1): The mean score is less than 70%.\n",
    "\n",
    "2. **Significance Level (α)**: α = 0.05.\n",
    "\n",
    "3. **Test Statistic**: We will use the Student's t-test for a sample.\n",
    "\n",
    "4. **Decision Criterion**: If the calculated p-value is less than the significance level (α = 0.05), we will reject the null hypothesis in favor of the alternative hypothesis.ternativa."
   ]
  },
  {
   "cell_type": "code",
   "execution_count": 8,
   "id": "c22f6626-aee6-4a3b-a0f0-26008a4fedc7",
   "metadata": {},
   "outputs": [],
   "source": [
    "# Defining the national mean\n",
    "mean_national = 70\n",
    "\n",
    "# Defining the significance level\n",
    "alpha = 0.05"
   ]
  },
  {
   "cell_type": "code",
   "execution_count": 9,
   "id": "ba3125bf-da32-4ec4-b8af-51cef398620a",
   "metadata": {},
   "outputs": [
    {
     "data": {
      "text/plain": [
       "0.36364597032062806"
      ]
     },
     "execution_count": 9,
     "metadata": {},
     "output_type": "execute_result"
    }
   ],
   "source": [
    "# Performing the hypothesis test\n",
    "t_statistic, p_value = stats.ttest_1samp(df['exam_score'], mean_national)\n",
    "p_value"
   ]
  },
  {
   "cell_type": "markdown",
   "id": "edd960d7-ba18-417d-9039-45296870631e",
   "metadata": {},
   "source": [
    "### Since the p-value (0.3636) is greater than alpha (0.05), there is not enough evidence to conclude that the average scores are below the national mean of 70%."
   ]
  },
  {
   "cell_type": "code",
   "execution_count": 10,
   "id": "7548cbd7-805a-4a6b-947d-fa53d30db085",
   "metadata": {},
   "outputs": [
    {
     "data": {
      "image/png": "[encoded data removed]",
      "text/plain": [
       "<Figure size 1000x600 with 1 Axes>"
      ]
     },
     "metadata": {},
     "output_type": "display_data"
    }
   ],
   "source": [
    "# Creating the histogram\n",
    "plt.figure(figsize=(10, 6))\n",
    "plt.hist(df, bins=15, color='skyblue', edgecolor='black', alpha=0.7)\n",
    "\n",
    "# Adding a vertical line to represent the national mean\n",
    "plt.axvline(mean_national, color='red', linestyle='dashed', linewidth=1, label='National Mean (70%)')\n",
    "\n",
    "# Adding legends and title\n",
    "plt.title('Distribution of Student Scores')\n",
    "plt.xlabel('Score')\n",
    "plt.ylabel('Frequency')\n",
    "plt.legend()\n",
    "\n",
    "# Displaying the graph\n",
    "plt.grid(True)\n",
    "plt.show()"
   ]
  },
  {
   "cell_type": "markdown",
   "id": "175ea4c5-8a6c-48fd-b8dc-4351106a8f8c",
   "metadata": {
    "jp-MarkdownHeadingCollapsed": true
   },
   "source": [
    "\r\n",
    "#### Histogram\r\n",
    "Histogram of student scores, highlighting the national mean of 70%.\r\n",
    "\r\n",
    "- The histogram shows the distribution of student scores, highlighting the concentration of scores along the horizontal axis.\r\n",
    "- The dashed vertical line in red represents the national mean of 70%, aiding in visualizing the student scores and positioning relative to the national mean.\r\n",
    "- It is observed that the majority of scores are below the national mean.\r\n",
    "- The distribution of scores appears to be skewed to the left, suggesting that most students achieved lower scores."
   ]
  },
  {
   "cell_type": "markdown",
   "id": "d5cef9a9-2cc6-44ee-bda4-0fe67d9a9242",
   "metadata": {},
   "source": [
    "### Task 2\n",
    "Load the diamonds dataset, and print the first 5 rows. The color variable refers to the colour of the diamond, with categories from “D” to “J”. Colourless diamonds are considered better than diamonds with a yellow tint. Diamonds from “D” to “F” are considered colourless, and diamonds from colour “G” to “J” are not considered colourless (that is, they have a very faint colour).\r\n",
    "\r\n",
    "1. Create a new binary variable in the dataframe called “colourless” which records 1 in rows with colourless diamonds and 0 otherwise.\r\n",
    "2. Perform an appropriate hypothesis test to determine whether there is any association between the clarity of a diamond and whether it is colourless or not. Use a significance level of alpha = 0.01.\r\n",
    "3. Produce and comment on an appropriate plot to illustrate your findings.\r\n",
    "4. Find and interpret 90% confidence intervals for both the mean price of colourless diamonds and the mean price of non-colourless diamnds.\r\n"
   ]
  },
  {
   "cell_type": "code",
   "execution_count": 11,
   "id": "072c7dd3-2b1e-47cd-9cd6-99f318592cb2",
   "metadata": {},
   "outputs": [],
   "source": [
    "df = pd.read_csv(\"diamonds.csv\")"
   ]
  },
  {
   "cell_type": "code",
   "execution_count": 12,
   "id": "d8ebf716-03b7-4408-924d-957c8678a54a",
   "metadata": {},
   "outputs": [
    {
     "data": {
      "text/html": [
       "<div>\n",
       "<style scoped>\n",
       "    .dataframe tbody tr th:only-of-type {\n",
       "        vertical-align: middle;\n",
       "    }\n",
       "\n",
       "    .dataframe tbody tr th {\n",
       "        vertical-align: top;\n",
       "    }\n",
       "\n",
       "    .dataframe thead th {\n",
       "        text-align: right;\n",
       "    }\n",
       "</style>\n",
       "<table border=\"1\" class=\"dataframe\">\n",
       "  <thead>\n",
       "    <tr style=\"text-align: right;\">\n",
       "      <th></th>\n",
       "      <th>carat</th>\n",
       "      <th>cut</th>\n",
       "      <th>color</th>\n",
       "      <th>clarity</th>\n",
       "      <th>depth</th>\n",
       "      <th>table</th>\n",
       "      <th>price</th>\n",
       "      <th>x</th>\n",
       "      <th>y</th>\n",
       "      <th>z</th>\n",
       "    </tr>\n",
       "  </thead>\n",
       "  <tbody>\n",
       "    <tr>\n",
       "      <th>0</th>\n",
       "      <td>0.23</td>\n",
       "      <td>Ideal</td>\n",
       "      <td>E</td>\n",
       "      <td>SI2</td>\n",
       "      <td>61.5</td>\n",
       "      <td>55.0</td>\n",
       "      <td>326</td>\n",
       "      <td>3.95</td>\n",
       "      <td>3.98</td>\n",
       "      <td>2.43</td>\n",
       "    </tr>\n",
       "    <tr>\n",
       "      <th>1</th>\n",
       "      <td>0.21</td>\n",
       "      <td>Premium</td>\n",
       "      <td>E</td>\n",
       "      <td>SI1</td>\n",
       "      <td>59.8</td>\n",
       "      <td>61.0</td>\n",
       "      <td>326</td>\n",
       "      <td>3.89</td>\n",
       "      <td>3.84</td>\n",
       "      <td>2.31</td>\n",
       "    </tr>\n",
       "    <tr>\n",
       "      <th>2</th>\n",
       "      <td>0.23</td>\n",
       "      <td>Good</td>\n",
       "      <td>E</td>\n",
       "      <td>VS1</td>\n",
       "      <td>56.9</td>\n",
       "      <td>65.0</td>\n",
       "      <td>327</td>\n",
       "      <td>4.05</td>\n",
       "      <td>4.07</td>\n",
       "      <td>2.31</td>\n",
       "    </tr>\n",
       "    <tr>\n",
       "      <th>3</th>\n",
       "      <td>0.29</td>\n",
       "      <td>Premium</td>\n",
       "      <td>I</td>\n",
       "      <td>VS2</td>\n",
       "      <td>62.4</td>\n",
       "      <td>58.0</td>\n",
       "      <td>334</td>\n",
       "      <td>4.20</td>\n",
       "      <td>4.23</td>\n",
       "      <td>2.63</td>\n",
       "    </tr>\n",
       "    <tr>\n",
       "      <th>4</th>\n",
       "      <td>0.31</td>\n",
       "      <td>Good</td>\n",
       "      <td>J</td>\n",
       "      <td>SI2</td>\n",
       "      <td>63.3</td>\n",
       "      <td>58.0</td>\n",
       "      <td>335</td>\n",
       "      <td>4.34</td>\n",
       "      <td>4.35</td>\n",
       "      <td>2.75</td>\n",
       "    </tr>\n",
       "  </tbody>\n",
       "</table>\n",
       "</div>"
      ],
      "text/plain": [
       "   carat      cut color clarity  depth  table  price     x     y     z\n",
       "0   0.23    Ideal     E     SI2   61.5   55.0    326  3.95  3.98  2.43\n",
       "1   0.21  Premium     E     SI1   59.8   61.0    326  3.89  3.84  2.31\n",
       "2   0.23     Good     E     VS1   56.9   65.0    327  4.05  4.07  2.31\n",
       "3   0.29  Premium     I     VS2   62.4   58.0    334  4.20  4.23  2.63\n",
       "4   0.31     Good     J     SI2   63.3   58.0    335  4.34  4.35  2.75"
      ]
     },
     "execution_count": 12,
     "metadata": {},
     "output_type": "execute_result"
    }
   ],
   "source": [
    "df.head()"
   ]
  },
  {
   "cell_type": "code",
   "execution_count": 13,
   "id": "0af16930-5076-43b5-9230-a927cc2f6526",
   "metadata": {
    "scrolled": true
   },
   "outputs": [
    {
     "name": "stdout",
     "output_type": "stream",
     "text": [
      "<class 'pandas.core.frame.DataFrame'>\n",
      "RangeIndex: 53940 entries, 0 to 53939\n",
      "Data columns (total 10 columns):\n",
      " #   Column   Non-Null Count  Dtype  \n",
      "---  ------   --------------  -----  \n",
      " 0   carat    53940 non-null  float64\n",
      " 1   cut      53940 non-null  object \n",
      " 2   color    53940 non-null  object \n",
      " 3   clarity  53940 non-null  object \n",
      " 4   depth    53940 non-null  float64\n",
      " 5   table    53940 non-null  float64\n",
      " 6   price    53940 non-null  int64  \n",
      " 7   x        53940 non-null  float64\n",
      " 8   y        53940 non-null  float64\n",
      " 9   z        53940 non-null  float64\n",
      "dtypes: float64(6), int64(1), object(3)\n",
      "memory usage: 4.1+ MB\n"
     ]
    }
   ],
   "source": [
    "df.info()"
   ]
  },
  {
   "cell_type": "markdown",
   "id": "1f27475e-39df-4f3f-9edf-e608eb30329f",
   "metadata": {},
   "source": [
    "#### Variable colourless\n",
    "Creating the new binary variable \"colourless\" here color D, E and F = 1 and others colors = 0"
   ]
  },
  {
   "cell_type": "code",
   "execution_count": 14,
   "id": "18d77722-3cef-4d98-addc-3fc46cc0294e",
   "metadata": {
    "scrolled": true
   },
   "outputs": [
    {
     "data": {
      "text/html": [
       "<div>\n",
       "<style scoped>\n",
       "    .dataframe tbody tr th:only-of-type {\n",
       "        vertical-align: middle;\n",
       "    }\n",
       "\n",
       "    .dataframe tbody tr th {\n",
       "        vertical-align: top;\n",
       "    }\n",
       "\n",
       "    .dataframe thead th {\n",
       "        text-align: right;\n",
       "    }\n",
       "</style>\n",
       "<table border=\"1\" class=\"dataframe\">\n",
       "  <thead>\n",
       "    <tr style=\"text-align: right;\">\n",
       "      <th></th>\n",
       "      <th>carat</th>\n",
       "      <th>cut</th>\n",
       "      <th>color</th>\n",
       "      <th>clarity</th>\n",
       "      <th>depth</th>\n",
       "      <th>table</th>\n",
       "      <th>price</th>\n",
       "      <th>x</th>\n",
       "      <th>y</th>\n",
       "      <th>z</th>\n",
       "      <th>colourless</th>\n",
       "    </tr>\n",
       "  </thead>\n",
       "  <tbody>\n",
       "    <tr>\n",
       "      <th>0</th>\n",
       "      <td>0.23</td>\n",
       "      <td>Ideal</td>\n",
       "      <td>E</td>\n",
       "      <td>SI2</td>\n",
       "      <td>61.5</td>\n",
       "      <td>55.0</td>\n",
       "      <td>326</td>\n",
       "      <td>3.95</td>\n",
       "      <td>3.98</td>\n",
       "      <td>2.43</td>\n",
       "      <td>1</td>\n",
       "    </tr>\n",
       "    <tr>\n",
       "      <th>1</th>\n",
       "      <td>0.21</td>\n",
       "      <td>Premium</td>\n",
       "      <td>E</td>\n",
       "      <td>SI1</td>\n",
       "      <td>59.8</td>\n",
       "      <td>61.0</td>\n",
       "      <td>326</td>\n",
       "      <td>3.89</td>\n",
       "      <td>3.84</td>\n",
       "      <td>2.31</td>\n",
       "      <td>1</td>\n",
       "    </tr>\n",
       "    <tr>\n",
       "      <th>2</th>\n",
       "      <td>0.23</td>\n",
       "      <td>Good</td>\n",
       "      <td>E</td>\n",
       "      <td>VS1</td>\n",
       "      <td>56.9</td>\n",
       "      <td>65.0</td>\n",
       "      <td>327</td>\n",
       "      <td>4.05</td>\n",
       "      <td>4.07</td>\n",
       "      <td>2.31</td>\n",
       "      <td>1</td>\n",
       "    </tr>\n",
       "    <tr>\n",
       "      <th>3</th>\n",
       "      <td>0.29</td>\n",
       "      <td>Premium</td>\n",
       "      <td>I</td>\n",
       "      <td>VS2</td>\n",
       "      <td>62.4</td>\n",
       "      <td>58.0</td>\n",
       "      <td>334</td>\n",
       "      <td>4.20</td>\n",
       "      <td>4.23</td>\n",
       "      <td>2.63</td>\n",
       "      <td>0</td>\n",
       "    </tr>\n",
       "    <tr>\n",
       "      <th>4</th>\n",
       "      <td>0.31</td>\n",
       "      <td>Good</td>\n",
       "      <td>J</td>\n",
       "      <td>SI2</td>\n",
       "      <td>63.3</td>\n",
       "      <td>58.0</td>\n",
       "      <td>335</td>\n",
       "      <td>4.34</td>\n",
       "      <td>4.35</td>\n",
       "      <td>2.75</td>\n",
       "      <td>0</td>\n",
       "    </tr>\n",
       "    <tr>\n",
       "      <th>...</th>\n",
       "      <td>...</td>\n",
       "      <td>...</td>\n",
       "      <td>...</td>\n",
       "      <td>...</td>\n",
       "      <td>...</td>\n",
       "      <td>...</td>\n",
       "      <td>...</td>\n",
       "      <td>...</td>\n",
       "      <td>...</td>\n",
       "      <td>...</td>\n",
       "      <td>...</td>\n",
       "    </tr>\n",
       "    <tr>\n",
       "      <th>53935</th>\n",
       "      <td>0.72</td>\n",
       "      <td>Ideal</td>\n",
       "      <td>D</td>\n",
       "      <td>SI1</td>\n",
       "      <td>60.8</td>\n",
       "      <td>57.0</td>\n",
       "      <td>2757</td>\n",
       "      <td>5.75</td>\n",
       "      <td>5.76</td>\n",
       "      <td>3.50</td>\n",
       "      <td>1</td>\n",
       "    </tr>\n",
       "    <tr>\n",
       "      <th>53936</th>\n",
       "      <td>0.72</td>\n",
       "      <td>Good</td>\n",
       "      <td>D</td>\n",
       "      <td>SI1</td>\n",
       "      <td>63.1</td>\n",
       "      <td>55.0</td>\n",
       "      <td>2757</td>\n",
       "      <td>5.69</td>\n",
       "      <td>5.75</td>\n",
       "      <td>3.61</td>\n",
       "      <td>1</td>\n",
       "    </tr>\n",
       "    <tr>\n",
       "      <th>53937</th>\n",
       "      <td>0.70</td>\n",
       "      <td>Very Good</td>\n",
       "      <td>D</td>\n",
       "      <td>SI1</td>\n",
       "      <td>62.8</td>\n",
       "      <td>60.0</td>\n",
       "      <td>2757</td>\n",
       "      <td>5.66</td>\n",
       "      <td>5.68</td>\n",
       "      <td>3.56</td>\n",
       "      <td>1</td>\n",
       "    </tr>\n",
       "    <tr>\n",
       "      <th>53938</th>\n",
       "      <td>0.86</td>\n",
       "      <td>Premium</td>\n",
       "      <td>H</td>\n",
       "      <td>SI2</td>\n",
       "      <td>61.0</td>\n",
       "      <td>58.0</td>\n",
       "      <td>2757</td>\n",
       "      <td>6.15</td>\n",
       "      <td>6.12</td>\n",
       "      <td>3.74</td>\n",
       "      <td>0</td>\n",
       "    </tr>\n",
       "    <tr>\n",
       "      <th>53939</th>\n",
       "      <td>0.75</td>\n",
       "      <td>Ideal</td>\n",
       "      <td>D</td>\n",
       "      <td>SI2</td>\n",
       "      <td>62.2</td>\n",
       "      <td>55.0</td>\n",
       "      <td>2757</td>\n",
       "      <td>5.83</td>\n",
       "      <td>5.87</td>\n",
       "      <td>3.64</td>\n",
       "      <td>1</td>\n",
       "    </tr>\n",
       "  </tbody>\n",
       "</table>\n",
       "<p>53940 rows × 11 columns</p>\n",
       "</div>"
      ],
      "text/plain": [
       "       carat        cut color clarity  depth  table  price     x     y     z  \\\n",
       "0       0.23      Ideal     E     SI2   61.5   55.0    326  3.95  3.98  2.43   \n",
       "1       0.21    Premium     E     SI1   59.8   61.0    326  3.89  3.84  2.31   \n",
       "2       0.23       Good     E     VS1   56.9   65.0    327  4.05  4.07  2.31   \n",
       "3       0.29    Premium     I     VS2   62.4   58.0    334  4.20  4.23  2.63   \n",
       "4       0.31       Good     J     SI2   63.3   58.0    335  4.34  4.35  2.75   \n",
       "...      ...        ...   ...     ...    ...    ...    ...   ...   ...   ...   \n",
       "53935   0.72      Ideal     D     SI1   60.8   57.0   2757  5.75  5.76  3.50   \n",
       "53936   0.72       Good     D     SI1   63.1   55.0   2757  5.69  5.75  3.61   \n",
       "53937   0.70  Very Good     D     SI1   62.8   60.0   2757  5.66  5.68  3.56   \n",
       "53938   0.86    Premium     H     SI2   61.0   58.0   2757  6.15  6.12  3.74   \n",
       "53939   0.75      Ideal     D     SI2   62.2   55.0   2757  5.83  5.87  3.64   \n",
       "\n",
       "       colourless  \n",
       "0               1  \n",
       "1               1  \n",
       "2               1  \n",
       "3               0  \n",
       "4               0  \n",
       "...           ...  \n",
       "53935           1  \n",
       "53936           1  \n",
       "53937           1  \n",
       "53938           0  \n",
       "53939           1  \n",
       "\n",
       "[53940 rows x 11 columns]"
      ]
     },
     "execution_count": 14,
     "metadata": {},
     "output_type": "execute_result"
    }
   ],
   "source": [
    "df['colourless'] = df['color'].apply(lambda x: 1 if x in ['D', 'E', 'F'] else 0)\n",
    "\n",
    "df"
   ]
  },
  {
   "cell_type": "markdown",
   "id": "dea637a2-0cff-4bde-ab0c-2e0d7bb46e35",
   "metadata": {},
   "source": [
    "#### Prices Boxplot"
   ]
  },
  {
   "cell_type": "code",
   "execution_count": 15,
   "id": "4b472e50-0cfe-4eee-af5a-89351e4fd40d",
   "metadata": {},
   "outputs": [
    {
     "data": {
      "image/png": "[encoded data removed]",
      "text/plain": [
       "<Figure size 800x600 with 1 Axes>"
      ]
     },
     "metadata": {},
     "output_type": "display_data"
    }
   ],
   "source": [
    "# Create the boxplot\n",
    "plt.figure(figsize=(8, 6))\n",
    "sns.boxplot(x='colourless', y='price', data=df)\n",
    "plt.title('Comparison of Prices between Colorless and Non-Colorless Diamonds')\n",
    "plt.xlabel('Colorless')\n",
    "plt.ylabel('Price')\n",
    "plt.xticks([0, 1], ['Non-Colorless', 'Colorless'])\n",
    "plt.show()"
   ]
  },
  {
   "cell_type": "code",
   "execution_count": null,
   "id": "cd27a0f6-c597-43cd-83e8-3d0a9de7a85f",
   "metadata": {},
   "outputs": [],
   "source": []
  },
  {
   "cell_type": "markdown",
   "id": "a48d0b8f-cd44-45c8-bd6c-6d20dd1e72de",
   "metadata": {},
   "source": [
    "#### 90% Confidence Interval"
   ]
  },
  {
   "cell_type": "code",
   "execution_count": 18,
   "id": "00995067-451a-4b64-9b37-ea96204256ac",
   "metadata": {},
   "outputs": [],
   "source": [
    "# Calculate mean and standard deviation of prices for colorless diamonds\n",
    "colorless_prices = df[df['colourless'] == 1]['price']\n",
    "mean_colorless = np.mean(colorless_prices)\n",
    "std_colorless = np.std(colorless_prices, ddof=1)\n",
    "\n",
    "# Calculate mean and standard deviation of prices for non-colorless diamonds\n",
    "non_colorless_prices = df[df['colourless'] == 0]['price']\n",
    "mean_non_colorless = np.mean(non_colorless_prices)\n",
    "std_non_colorless = np.std(non_colorless_prices, ddof=1)\n",
    "\n",
    "# Sample size\n",
    "n_colorless = len(colorless_prices)\n",
    "n_non_colorless = len(non_colorless_prices)\n",
    "\n",
    "# Calculate the standard error (SE) \n",
    "se_colorless = std_colorless / np.sqrt(n_colorless)\n",
    "se_non_colorless = std_non_colorless / np.sqrt(n_non_colorless)\n",
    "\n",
    "# Degrees of freedom\n",
    "df_colorless = n_colorless - 1\n",
    "df_non_colorless = n_non_colorless - 1"
   ]
  },
  {
   "cell_type": "code",
   "execution_count": 19,
   "id": "5b6de14f-35e0-427a-bd0c-910f744dc40b",
   "metadata": {},
   "outputs": [
    {
     "name": "stdout",
     "output_type": "stream",
     "text": [
      "90% Confidence Interval for the Mean Price of Colorless Diamonds: (3301.857515879007, 3373.661286296071)\n",
      "90% Confidence Interval for the Mean Price of Non-Colorless Diamonds: (4448.778068284649, 4533.682076903305)\n"
     ]
    }
   ],
   "source": [
    "# 90% confidence interval for colorless and non-colorless diamonds\n",
    "ci_colorless = t.interval(0.90, df_colorless, loc=mean_colorless, scale=se_colorless)\n",
    "ci_non_colorless = t.interval(0.90, df_non_colorless, loc=mean_non_colorless, scale=se_non_colorless)\n",
    "\n",
    "# Print the confidence intervals\n",
    "print(\"90% Confidence Interval for the Mean Price of Colorless Diamonds:\", ci_colorless)\n",
    "print(\"90% Confidence Interval for the Mean Price of Non-Colorless Diamonds:\", ci_non_colorless)"
   ]
  },
  {
   "cell_type": "markdown",
   "id": "7f165888-dbf2-48fd-ac36-63b6440dd818",
   "metadata": {},
   "source": [
    "#### Difference in Average Prices\r\n",
    "The range for the average price of colorless diamonds between 3301.86 and 3373.66 is below the range for the average price of non-colorless diamonds between 4448.78 and 4533.68. Suggesting that on average, colorless diamonds tend to be cheaper than non-colorless diamonds.\r\n",
    "\r\n",
    "#### Statistical Significance\r\n",
    "The confidence intervals do not overlap, suggesting a statistical difference between the two groups. That is, there is a real difference in the average prices between colorless and non-colorless diamonds."
   ]
  },
  {
   "cell_type": "markdown",
   "id": "85edfddb-2273-4dd0-9ce8-2a472c203c96",
   "metadata": {},
   "source": [
    "### Task 3\n",
    "\r\n",
    "Load the PlantGrowth dataset from the pydataset library. It contains the results of a small study comparing the yields of plants obtained under a control and under two different treatment conditions.\r\n",
    "1. Find and comment on important summary statistics by treatment and produce an appropriate plot to summarise the dataset.\r\n",
    "2. Conduct an appropriate hypothesis test to see if there is evidence of a difference between the three means (that is, the control and the two treatments). Use a significance level of alpha = 0.05.\r\n",
    "3. If there is evidence of a difference between the three means, find and comment on where this difference maybe.\n"
   ]
  },
  {
   "cell_type": "code",
   "execution_count": null,
   "id": "ec91bcd1-217b-49ed-8752-327578b37152",
   "metadata": {},
   "outputs": [],
   "source": [
    "# Load the PlantGrowth dataset\n",
    "df = data('PlantGrowth')"
   ]
  },
  {
   "cell_type": "code",
   "execution_count": null,
   "id": "c738fd38-4b3a-4510-b4eb-9840cbba211d",
   "metadata": {},
   "outputs": [],
   "source": [
    "# Display the first few rows of the dataset\n",
    "df.head()"
   ]
  },
  {
   "cell_type": "code",
   "execution_count": null,
   "id": "23f03878-a868-43b2-adc9-437c4a1a4029",
   "metadata": {},
   "outputs": [],
   "source": [
    "df.info()"
   ]
  },
  {
   "cell_type": "markdown",
   "id": "0d9ea926-d419-4602-8938-e71f5eca179c",
   "metadata": {},
   "source": [
    "#### Summary Statistics"
   ]
  },
  {
   "cell_type": "code",
   "execution_count": null,
   "id": "fa68cf8a-ddb3-4577-8b40-ea031b7724ed",
   "metadata": {},
   "outputs": [],
   "source": [
    "# Calculate summary statistics by treatment\n",
    "summary_stats = df.groupby('group')['weight'].describe()\n",
    "\n",
    "# Display the summary statistics\n",
    "print(summary_stats)"
   ]
  },
  {
   "cell_type": "code",
   "execution_count": null,
   "id": "ff481ee6-613e-4991-9474-ce3bba31f7c7",
   "metadata": {},
   "outputs": [],
   "source": [
    "# Create a boxplot to visualize the distribution of weights by treatment\n",
    "plt.figure(figsize=(8, 6))\n",
    "sns.boxplot(x='group', y='weight', data=df)\n",
    "plt.title('Distribution of Plant Weights by Treatment')\n",
    "plt.xlabel('Treatment Group')\n",
    "plt.ylabel('Weight')\n",
    "plt.show()"
   ]
  },
  {
   "cell_type": "markdown",
   "id": "a83ecdac-b1c3-44c3-8950-0c2afdd4e17a",
   "metadata": {},
   "source": [
    "**Treatment 1:** The average weight of the plants is 4.661 with a median of 4.55. The standard deviation is 0.794, indicating a moderate amount of variability in plant weights. The minimum observed weight is 3.59, and the maximum weight is 6.03.\n",
    "\n",
    "**Treatment 2:** The average weight of the plants is 5.526 with a median of 5.435. The standard deviation is 0.443, indicating less variability compared to Treatment 1. The minimum observed weight is 4.92, and the maximum weight is 6.31.\n",
    "\n",
    "**Control:** The average weight of the plants in the control group is 5.032 with a median of 5.155. The standard deviation is 0.583, indicating relatively low variability. The minimum observed weight is 4.17, and the maximum weight is 6.11."
   ]
  },
  {
   "cell_type": "markdown",
   "id": "5d35a37b-4eab-468b-8c61-1589320fdd3b",
   "metadata": {},
   "source": [
    "#### Hypothesis Test - t-test\n",
    "3 Independent t-tests, one for each pair of groups, to test for differences among the three means.\n",
    "- Control vs. Treatment 1\n",
    "- Control vs. Treatment 2\n",
    "- Treatment 1 vs. Treatment 2\n",
    "- Alpha = 0.05"
   ]
  },
  {
   "cell_type": "code",
   "execution_count": null,
   "id": "5692649e-a6e6-4c11-b35a-f3e03ff0493c",
   "metadata": {},
   "outputs": [],
   "source": [
    "# Separating the data into groups\n",
    "control = df[df['group'] == 'ctrl']['weight']\n",
    "treatment1 = df[df['group'] == 'trt1']['weight']\n",
    "treatment2 = df[df['group'] == 'trt2']['weight']\n",
    "\n",
    "# Performing t-tests between the groups\n",
    "t_statistic_ctrl_vs_trt1, p_value_ctrl_vs_trt1 = ttest_ind(control, treatment1)\n",
    "t_statistic_ctrl_vs_trt2, p_value_ctrl_vs_trt2 = ttest_ind(control, treatment2)\n",
    "t_statistic_trt1_vs_trt2, p_value_trt1_vs_trt2 = ttest_ind(treatment1, treatment2)"
   ]
  },
  {
   "cell_type": "code",
   "execution_count": null,
   "id": "99cb88ec-df33-409c-b518-35414f3903e5",
   "metadata": {},
   "outputs": [],
   "source": [
    "print(p_value_ctrl_vs_trt1)\n",
    "print(p_value_ctrl_vs_trt2)\n",
    "print(p_value_trt1_vs_trt2)"
   ]
  },
  {
   "cell_type": "markdown",
   "id": "ca2ee229-45a9-4ecf-abcd-e8a5598afb32",
   "metadata": {},
   "source": [
    "### The results\n",
    "\n",
    "For Alpha = 0.05\n",
    "\n",
    "**Control (ctrl) vs. Treatment 1 (trt1):** The p-value is greater than alpha. Therefore, there is no evidence of difference between the means of control and treatment 1.\n",
    "\n",
    "**Control (ctrl) vs. Treatment 2 (trt2):** The p-value is less than alpha. Therefore, there is evidence of difference between the means of control and treatment 2.\n",
    "\n",
    "**Treatment 1 (trt1) vs. Treatment 2 (trt2):** The p-value is less than alpha. Therefore, there is evidence of difference between the means of treatment 1 and treatment 2."
   ]
  },
  {
   "cell_type": "code",
   "execution_count": null,
   "id": "0cc09a19-4a2e-4219-8ab6-f449f9a65ea5",
   "metadata": {},
   "outputs": [],
   "source": []
  },
  {
   "cell_type": "code",
   "execution_count": null,
   "id": "dcc83ee0-c5ad-4562-9390-cd8bcd8e15b1",
   "metadata": {},
   "outputs": [],
   "source": []
  },
  {
   "cell_type": "code",
   "execution_count": null,
   "id": "ab7cf1ff-bc8a-4279-8435-e5fe0d1a5979",
   "metadata": {},
   "outputs": [],
   "source": []
  }
 ],
 "metadata": {
  "kernelspec": {
   "display_name": "Python 3 (ipykernel)",
   "language": "python",
   "name": "python3"
  },
  "language_info": {
   "codemirror_mode": {
    "name": "ipython",
    "version": 3
   },
   "file_extension": ".py",
   "mimetype": "text/x-python",
   "name": "python",
   "nbconvert_exporter": "python",
   "pygments_lexer": "ipython3",
   "version": "3.9.19"
  }
 },
 "nbformat": 4,
 "nbformat_minor": 5
}
